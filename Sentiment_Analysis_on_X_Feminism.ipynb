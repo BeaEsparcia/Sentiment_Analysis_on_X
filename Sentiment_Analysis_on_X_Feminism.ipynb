{
 "cells": [
  {
   "cell_type": "markdown",
   "metadata": {
    "id": "N4FxcgOdgYT6"
   },
   "source": [
    "\n",
    "This project performs sentiment analysis on a collection of tweets discussing feminism. The main goal is to identify and categorize the predominant emotions in these posts using a pre-trained Natural Language Processing (NLP) model."
   ]
  },
  {
   "cell_type": "code",
   "execution_count": null,
   "metadata": {
    "colab": {
     "base_uri": "https://localhost:8080/"
    },
    "id": "6unMoHM_Z02_",
    "outputId": "f4b66abf-3e78-4356-c207-6d38d16786c4"
   },
   "outputs": [],
   "source": [
    "# Install dependencies (if needed)\n",
    "!pip install transformers pandas matplotlib\n",
    "\n",
    "# Import necessary libraries\n",
    "import pandas as pd\n",
    "from transformers import pipeline\n",
    "import matplotlib.pyplot as plt\n"
   ]
  },
  {
   "cell_type": "code",
   "execution_count": null,
   "metadata": {
    "colab": {
     "base_uri": "https://localhost:8080/",
     "height": 313,
     "referenced_widgets": [
      "53b9689201054a45bb0badc4291dfe01",
      "27b8726136944a6883dbc5292c4ffc7e",
      "f739b9591bf74c11b806e1b87aa3a98a",
      "83123f2064e649bc945163349322e860",
      "bd7944733e2b49698cecb1dc22513bc7",
      "b357237ad0b843f09beb609f6aab2c1c",
      "04bf91f532294618b91d21c503ac2e42",
      "f74543600ef2400aa621fbf28cc59e28",
      "562caa23e9d44ed7add079873a4821ed",
      "0c5b8baa4a77430dbbaf41e844e641b5",
      "12818b13d91940ae847388a3da5c69a1",
      "6e3b375e5a91435599c0a131a2ca600a",
      "4398f4d6b9ee4a868e22b62e0d7db0be",
      "08af872c9e13410488a903b225c65a9c",
      "17ae967dc5cb4f3589e1d4841b045cc3",
      "12cbe4c3ac1d432cb6a32fe17840f7d1",
      "edb6d596ef2f466faa874db3193ec07c",
      "5d28f02f5dc74b3b8eb1baeab66e732a",
      "c3c47ff68cbb498e9dcf509d91cef76e",
      "8d8bca436b894bfe9cc49a188db2cf54",
      "dd004e9eb81545ab8dad3659876d9a80",
      "83387af88b2a48e5baa26f8ae18910bc",
      "c80bde454d714d488a374ee7494a6126",
      "2d35301f7ebe427c975d3baf7ab9be5d",
      "475cbe772b484f3f92ec099cc7684c08",
      "7c96eaea4f6348dca80103c63a7b9d88",
      "5301f2288f3849c6877107717c321640",
      "1eea3cad29dc4f4a8375fd95bcbbf4cd",
      "5a910ffdf2a94962836ec54ca60de5aa",
      "1d4cb6a43e6e412db0ff4662dad4409a",
      "1c1dcd110b3d454a8129339939cd4efb",
      "61c44bdf9177470d8a8da871d06164e2",
      "19ba7e7e72c645cd8f2b904cdb768e0a",
      "30d5873b621b4d58ad9126a6416d6ddf",
      "1f7da7ce7ae84a50b0360683763e16e5",
      "b9839b61fb174a14a3dd4165b4bbf80e",
      "bc74bb964e004cd7a624939e15abd0bc",
      "83c9264a12384a8ba874239c2bbbfdf9",
      "1ddf632d72ed4001adc12ab12126303c",
      "7209a17e81bc409bbe84d379c7617720",
      "94b8dc67d355441aa6d061153d187d67",
      "9d4d9f3581cd4311856cddd841165e99",
      "a1d028024a5746f5b3df15c0b7e8d0c6",
      "6dc1093e97844a6a82c6e1520e2c5a1f",
      "9d78d5fc3bb145739912fc96b11c09c8",
      "bd1eaceede3f4283a21be1922627668b",
      "a54c9ff824ea4f0e8bbeb216259a3f6e",
      "73018dca005148c5a6c9c006bd53ffd0",
      "b64ec0d220d04d7bb4a5e7dda3b9d99a",
      "26682063835740cb9416b835f69d7745",
      "bfe4f59b4db5446e8ff01d15976439e8",
      "82f5c84ceac24c3584f97914d8b71cc3",
      "806b8a2e4e1f45268ed920637db9dd17",
      "44c967e2a67f4ab3b2b11b69ed15a8d2",
      "cc251035567e46d28b054734ac1acc45"
     ]
    },
    "id": "yazh_SxNNW4b",
    "outputId": "cc9df7b0-cfd1-4bbd-ecd3-dc40515e16d5"
   },
   "outputs": [],
   "source": [
    "# Load the sentiment analysis pipeline with a pre-trained model\n",
    "nlp = pipeline(\"sentiment-analysis\", model=\"nlptown/bert-base-multilingual-uncased-sentiment\")\n"
   ]
  },
  {
   "cell_type": "code",
   "execution_count": null,
   "metadata": {
    "id": "OHPuPDJUNdcw"
   },
   "outputs": [],
   "source": [
    "# List of tweets to analyze\n",
    "tweets = [\n",
    "    \"El feminismo arruinó el mundo y algunas aún no la ven.\",\n",
    "    \"@perezreverte Sobre mujer y #feminismo hay mucho ruido, y a veces, mucha demagogia y mucho folclore...\",\n",
    "    \"Erradicando toda clase de injusticias: El Movimiento Feminista es inherentemente interseccional...\",\n",
    "    \"La mejor ministra que ha tenido este país #irenemontero #feminismo\",\n",
    "    \"Todas las políticas woke quieren acabar con el prototipo de hombre necesario para la sociedad\",\n",
    "    \"Y finalmente la #masculinidad #tóxica se basa en lo q dije pq si la mujer deja de depender de un hombre...\",\n",
    "    \"Me cago en la cuotas vaginales. Ahora resulta que la empresa que me echó de la formación se arrepiente...\",\n",
    "    \"SÍ. SOY FEMINISTA. #feminismo #igualdad #8Marzo #8M\",\n",
    "    \"En el autobús, 8 personas hablando de machismo en España...\",\n",
    "    \"El feminismo es la justicia de este siglo #feminismo #irenemontero #8M\",\n",
    "    \"Sin #Abolición de la #Prostitución, no habrá igualdad El #Feminismo es #Abolicionista...\",\n",
    "    \"Viva la LUCHA FEMINISTA #feminismo #igualdad #8M\",\n",
    "    \"«No hay barrera cerradura, ni cerrojo que puedas imponer a la libertad de tu mente» Virginia Woolf...\",\n",
    "    \"Emmeline Pankhurst fue la líder del movimiento feminista y sufragista del Reino Unido...\",\n",
    "    \"Las feministas vandalizaron el #8M la Universidad del Rosario en #Bogota...\",\n",
    "    \"#Feminismo #Hombres #Mujeres #DerechosHumanos Lo dicho: Las feministas tienen envidia de pene.\",\n",
    "    \"Las denuncias falsas no existen ya... Al menos 1 de cada 7 de todos los hombres ha sufrido una acusación falsa...\",\n",
    "    \"Miles de hombres se suicidan en nuestro país cada año...\",\n",
    "    \"No somos mujeres. Les damos igual. No. No les damos igual. Peor aún…\",\n",
    "    \"No, no hay ningún problema con estar sola. El problema radica en la razón por la que estás sola...\"\n",
    "]\n"
   ]
  },
  {
   "cell_type": "code",
   "execution_count": null,
   "metadata": {
    "colab": {
     "base_uri": "https://localhost:8080/"
    },
    "id": "8t2ggu6BNgYI",
    "outputId": "b68981fd-c2c3-4e8a-e098-a9dbb013574a"
   },
   "outputs": [],
   "source": [
    "# Analyze the sentiment of each tweet\n",
    "sentiment_results = []\n",
    "for tweet in tweets:\n",
    "    result = nlp(tweet)\n",
    "    label = result[0]['label']\n",
    "    score = result[0]['score']\n",
    "    sentiment_results.append({\"text\": tweet, \"label\": label, \"score\": score})\n"
   ]
  },
  {
   "cell_type": "code",
   "execution_count": null,
   "metadata": {
    "id": "yZ_cVF1pNlR9"
   },
   "outputs": [],
   "source": [
    "# Convert results to a DataFrame\n",
    "df_results = pd.DataFrame(sentiment_results)\n",
    "\n",
    "# Simplify model labels\n",
    "df_results['label'] = df_results['label'].replace({\n",
    "    \"1 star\": \"Very Negative\",\n",
    "    \"2 stars\": \"Negative\",\n",
    "    \"3 stars\": \"Neutral\",\n",
    "    \"4 stars\": \"Positive\",\n",
    "    \"5 stars\": \"Very Positive\"\n",
    "})\n"
   ]
  },
  {
   "cell_type": "code",
   "execution_count": null,
   "metadata": {
    "colab": {
     "base_uri": "https://localhost:8080/"
    },
    "id": "7-Advwv0NoHs",
    "outputId": "7788c0f3-a398-4b17-c597-a5fa4ac494cd"
   },
   "outputs": [],
   "source": [
    "# Display the final DataFrame\n",
    "print(df_results[['text', 'label']])\n"
   ]
  },
  {
   "cell_type": "code",
   "execution_count": null,
   "metadata": {
    "colab": {
     "base_uri": "https://localhost:8080/",
     "height": 668
    },
    "id": "TCK31QvoNsKZ",
    "outputId": "3cbed267-7e92-4724-c4d5-901efd656bfa"
   },
   "outputs": [],
   "source": [
    "# Count of tweets by category\n",
    "final_count = df_results['label'].value_counts()\n",
    "\n",
    "# Bar chart for sentiment distribution\n",
    "plt.figure(figsize=(8, 6))\n",
    "final_count.plot(kind='bar', color=['red', 'green', 'blue'])\n",
    "plt.title('Sentiment Distribution in Tweets About Feminism')\n",
    "plt.xlabel('Sentiment')\n",
    "plt.ylabel('Number of Tweets')\n",
    "plt.show()\n"
   ]
  }
 ],
 "metadata": {
  "accelerator": "GPU",
  "colab": {
   "gpuType": "T4",
   "provenance": []
  },
  "kernelspec": {
   "display_name": "Python 3",
   "name": "python3"
  },
  "language_info": {
   "name": "python"
  }
 },
 "nbformat": 4,
 "nbformat_minor": 0
}
